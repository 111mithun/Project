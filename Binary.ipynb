{
  "nbformat": 4,
  "nbformat_minor": 0,
  "metadata": {
    "colab": {
      "name": "Binary.ipynb",
      "provenance": []
    },
    "kernelspec": {
      "name": "python3",
      "display_name": "Python 3"
    },
    "language_info": {
      "name": "python"
    }
  },
  "cells": [
    {
      "cell_type": "code",
      "metadata": {
        "id": "rp7BFFBrZ34s"
      },
      "source": [
        "\"\"\" Binary Search Algorithm \n",
        "----------------------------------------\n",
        "\"\"\"\n",
        "\n",
        "def binary_search(a_list, item):\n",
        "    \"\"\"Performs iterative binary search to find the position of an integer in a given, sorted, list.\n",
        "    a_list -- sorted list of integers\n",
        "    item -- integer you are searching for the position of\n",
        "    \"\"\"\n",
        "    first = 0\n",
        "    last = len(a_list) - 1\n",
        "    while first <= last:\n",
        "        i = (first + last) / 2\n",
        "        if a_list[i] == item:\n",
        "            return ' found at position '.format(item=item, i=i)\n",
        "        elif a_list[i] > item:\n",
        "            last = i - 1\n",
        "        elif a_list[i] < item:\n",
        "            first = i + 1\n",
        "        else:\n",
        "            return ' not found in the list'.format(item=item)\n",
        "\n",
        "def binary_search_recursive(a_list, item):\n",
        "    \"\"\"Performs recursive binary search of an integer in a given, sorted, list.\n",
        "    a_list -- sorted list of integers\n",
        "    item -- integer you are searching for the position of\n",
        "    \"\"\"\n",
        "    first = 0\n",
        "    last = len(a_list) - 1\n",
        "    if len(a_list) == 0:\n",
        "        return ' was not found in the list'.format(item=item)\n",
        "    else:\n",
        "        i = (first + last) // 2\n",
        "        if item == a_list[i]:\n",
        "            return ' found'.format(item=item)\n",
        "        else:\n",
        "            if a_list[i] < item:\n",
        "                return binary_search_recursive(a_list[i+1:], item)\n",
        "            else:\n",
        "                return binary_search_recursive(a_list[:i], item)"
      ],
      "execution_count": 13,
      "outputs": []
    }
  ]
}